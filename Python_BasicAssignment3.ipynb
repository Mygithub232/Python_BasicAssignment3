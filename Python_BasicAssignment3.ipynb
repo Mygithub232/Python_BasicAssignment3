{
 "cells": [
  {
   "cell_type": "code",
   "execution_count": null,
   "metadata": {},
   "outputs": [],
   "source": [
    "1. Why are functions advantageous to have in your programs?\n",
    "\n",
    "Ans : Functions reduce the need for duplicate code. This makes programs shorter, easier to read, and easier to update. ... A function call is what moves the program execution into the function, and the function call evaluates to the functions return value"
   ]
  },
  {
   "cell_type": "code",
   "execution_count": null,
   "metadata": {},
   "outputs": [],
   "source": [
    "2. When does the code in a function run: when it's specified or when it's called?\n",
    "    \n",
    "Ans: The code runs in a function when its called not when its specified."
   ]
  },
  {
   "cell_type": "code",
   "execution_count": null,
   "metadata": {},
   "outputs": [],
   "source": [
    "3. What statement creates a function?\n",
    "\n",
    "The “def” keyword is a statement for defining a function in Python. \n",
    "You start a function with the def keyword, specify a name followed by a colon (:) sign. \n",
    "The “def” call creates the function object and assigns it to the name given. \n",
    "You can further re-assign the same function object to other names."
   ]
  },
  {
   "cell_type": "code",
   "execution_count": null,
   "metadata": {},
   "outputs": [],
   "source": [
    "4. What is the difference between a function and a function call?\n",
    "\n",
    "Function : \n",
    "A function is procedure to achieve a particular result while function call is using this function to achive that task.\n",
    "\n",
    "Function call : \n",
    "Using a function to do a particular task any point in program is called as function call. "
   ]
  },
  {
   "cell_type": "code",
   "execution_count": null,
   "metadata": {},
   "outputs": [],
   "source": [
    "5. How many global scopes are there in a Python program? How many local scopes?\n",
    "\n",
    "Global scopes:\n",
    "There's only one global Python scope per program execution.\n",
    "\n",
    "Local Scope:\n",
    "\n",
    "When you use an unqualified name inside a function, Python searches three scopes—the local (L), then the global (G), and then the built-in (B)—and stops at the first place the name is found"
   ]
  },
  {
   "cell_type": "code",
   "execution_count": null,
   "metadata": {},
   "outputs": [],
   "source": [
    "6. What happens to variables in a local scope when the function call returns?\n",
    "\n",
    "A local variable retains its value until the next time the function is called\n",
    "\n",
    "A local variable becomes undefined after the function call completes\n",
    "\n",
    "The local variable can be used outside the function any time after the function call completes.\n",
    "\n"
   ]
  },
  {
   "cell_type": "code",
   "execution_count": null,
   "metadata": {},
   "outputs": [],
   "source": [
    "7. What is the concept of a return value? Is it possible to have a return value in an expression?\n",
    "\n",
    " What is the concept of a return value?\n",
    "\n",
    "In general, a function takes arguments (if any), performs some operations, and returns a value (or object)\n",
    "\n",
    " Is it possible to have a return value in an expression?\n",
    "\n",
    "Yes  Ex : def expressonss(a,b):\n",
    "                return a*b\n",
    "        \n"
   ]
  },
  {
   "cell_type": "code",
   "execution_count": null,
   "metadata": {},
   "outputs": [],
   "source": [
    "8. If a function does not have a return statement, what is the return value of a call to that function?\n",
    "\n",
    "Ans : it will retrun none when we call that function."
   ]
  },
  {
   "cell_type": "code",
   "execution_count": null,
   "metadata": {},
   "outputs": [],
   "source": [
    "9. How do you make a function variable refer to the global variable?\n",
    "\n",
    "by specifying global infornt of the variable we can make any variable as global variable.\n",
    "ex:\n",
    "a = 20\n",
    "def functionn():\n",
    "    global b\n",
    "    b = 30\n",
    "    return a + b\n",
    "    \n",
    "def functionn2():\n",
    "    return a - b\n",
    "    \n",
    "functionn()\n",
    "functionn2()\n",
    "\n"
   ]
  },
  {
   "cell_type": "code",
   "execution_count": null,
   "metadata": {},
   "outputs": [],
   "source": [
    "10. What is the data type of None?\n",
    "\n",
    "The None keyword is used to define a null value, or no value at all. None is not the same as 0, False, or an empty string. None is a data type of its own (NoneType) and only None can be None."
   ]
  },
  {
   "cell_type": "code",
   "execution_count": null,
   "metadata": {},
   "outputs": [],
   "source": [
    "What does the sentence import areallyourpetsnamederic do?"
   ]
  },
  {
   "cell_type": "code",
   "execution_count": null,
   "metadata": {},
   "outputs": [],
   "source": [
    "12. If you had a bacon() feature in a spam module, what would you call it after importing spam?\n",
    "\n",
    "This function can be called with spam. bacon()."
   ]
  },
  {
   "cell_type": "code",
   "execution_count": null,
   "metadata": {},
   "outputs": [],
   "source": [
    "13. What can you do to save a programme from crashing if it encounters an error?\n",
    "\n",
    "Error handling can be used to notify the user of why the error occurred and gracefully exit the process that caused the error"
   ]
  },
  {
   "cell_type": "code",
   "execution_count": null,
   "metadata": {},
   "outputs": [],
   "source": [
    "14. What is the purpose of the try clause? What is the purpose of the except clause?\n",
    "\n",
    "In the try clause, all statements are executed until an exception is encountered. \n",
    "except is used to catch and handle the exception(s) that are encountered in the try clause. \n",
    "else lets you code sections that should run only when no exceptions are encountered in the try clause."
   ]
  }
 ],
 "metadata": {
  "kernelspec": {
   "display_name": "Python 3",
   "language": "python",
   "name": "python3"
  },
  "language_info": {
   "codemirror_mode": {
    "name": "ipython",
    "version": 3
   },
   "file_extension": ".py",
   "mimetype": "text/x-python",
   "name": "python",
   "nbconvert_exporter": "python",
   "pygments_lexer": "ipython3",
   "version": "3.8.5"
  }
 },
 "nbformat": 4,
 "nbformat_minor": 4
}
